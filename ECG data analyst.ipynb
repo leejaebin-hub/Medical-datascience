{
  "nbformat": 4,
  "nbformat_minor": 0,
  "metadata": {
    "colab": {
      "name": "Untitled0.ipynb",
      "private_outputs": true,
      "provenance": [],
      "authorship_tag": "ABX9TyPHRlcDQ3O/xjHN0h+uocU8",
      "include_colab_link": true
    },
    "kernelspec": {
      "name": "python3",
      "display_name": "Python 3"
    },
    "language_info": {
      "name": "python"
    },
    "accelerator": "GPU",
    "gpuClass": "standard"
  },
  "cells": [
    {
      "cell_type": "markdown",
      "metadata": {
        "id": "view-in-github",
        "colab_type": "text"
      },
      "source": [
        "<a href=\"https://colab.research.google.com/github/leejaebin-hub/Medical-datascience/blob/main/ECG%20data%20analyst.ipynb\" target=\"_parent\"><img src=\"https://colab.research.google.com/assets/colab-badge.svg\" alt=\"Open In Colab\"/></a>"
      ]
    },
    {
      "cell_type": "code",
      "execution_count": null,
      "metadata": {
        "id": "OCRU9cRh_50z"
      },
      "outputs": [],
      "source": [
        "from google.colab import drive  # for colab\n",
        "drive.mount('/content/gdrive/')  # for colabimport sys\n",
        "\n",
        "import os\n",
        "cloud_directory = '/content/gdrive/My Drive/KOHI_base_2022/'\n",
        "os.listdir(cloud_directory) # for colab, check cloud directory mount\n",
        "\n",
        "import sys\n",
        "download_directory = os.getcwd() # for local environments\n",
        "sys.path.append(download_directory) # for local environments\n",
        "sys.path.append(cloud_directory) # for colab"
      ]
    },
    {
      "cell_type": "markdown",
      "source": [
        ""
      ],
      "metadata": {
        "id": "DlslOsopA0_V"
      }
    },
    {
      "cell_type": "code",
      "source": [
        "import numpy as np\n",
        "import scipy\n",
        "import matplotlib.pylab as plt\n",
        "from scipy.signal import butter, cheby1, lfilter, filtfilt, freqz\n",
        "import warnings\n",
        "warnings.filterwarnings(action='ignore')\n",
        "\n",
        "download_directory = cloud_directory # for colab\n",
        "\n",
        "!pip install vitaldb\n",
        "!pip install neurokit2\n",
        "!pip install heartpy\n",
        "!pip install pyvital\n",
        "\n",
        "import neurokit2 as nk\n",
        "import heartpy as hp\n",
        "import vitaldb\n",
        "from pyvital import arr"
      ],
      "metadata": {
        "id": "1CvlhOohA2Iz"
      },
      "execution_count": null,
      "outputs": []
    },
    {
      "cell_type": "code",
      "source": [
        "from matplotlib.pyplot import fignum_exists\n",
        "# load ECG data\n",
        "ECG_data_clean = np.loadtxt('{}/example_data/original_ECG.txt'.format(download_directory))\n",
        "ECG_data_noisy = np.loadtxt('{}/example_data/noisy_ECG.txt'.format(download_directory))\n",
        "\n",
        "fig = plt.figure(figsize = (14,5)) \n",
        "plt.plot(ECG_data_clean - 2, color = 'b')\n",
        "plt.plot(ECG_data_noisy, color = 'r')\n",
        "plt.show()"
      ],
      "metadata": {
        "id": "Hq6mNQggBMNO"
      },
      "execution_count": null,
      "outputs": []
    },
    {
      "cell_type": "code",
      "source": [
        ""
      ],
      "metadata": {
        "id": "OymUYbsqCMLs"
      },
      "execution_count": null,
      "outputs": []
    }
  ]
}